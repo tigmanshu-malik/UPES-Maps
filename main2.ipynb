{
 "cells": [
  {
   "cell_type": "code",
   "execution_count": 18,
   "id": "6a96b289-4e7e-4f5a-adff-11b3e90ae5a3",
   "metadata": {},
   "outputs": [
    {
     "data": {
      "application/vnd.jupyter.widget-view+json": {
       "model_id": "1313247584074d399de1fc4702a70c55",
       "version_major": 2,
       "version_minor": 0
      },
      "text/plain": [
       "Button(description='Redraw Map', style=ButtonStyle())"
      ]
     },
     "metadata": {},
     "output_type": "display_data"
    },
    {
     "data": {
      "application/vnd.jupyter.widget-view+json": {
       "model_id": "54c203ad25704ff6a8ed5b59b265f828",
       "version_major": 2,
       "version_minor": 0
      },
      "text/plain": [
       "Output()"
      ]
     },
     "metadata": {},
     "output_type": "display_data"
    },
    {
     "data": {
      "application/vnd.jupyter.widget-view+json": {
       "model_id": "9b684a5fe5fe4034861d7de911b2bb44",
       "version_major": 2,
       "version_minor": 0
      },
      "text/plain": [
       "interactive(children=(Select(description='Start', options=('block1', 'block11', 'block9', 'Library', 'Ground',…"
      ]
     },
     "metadata": {},
     "output_type": "display_data"
    },
    {
     "data": {
      "application/vnd.jupyter.widget-view+json": {
       "model_id": "06dca6ca69354242982f19d43107c5d7",
       "version_major": 2,
       "version_minor": 0
      },
      "text/plain": [
       "interactive(children=(Select(description='Target', options=('block1', 'block11', 'block9', 'Library', 'Ground'…"
      ]
     },
     "metadata": {},
     "output_type": "display_data"
    },
    {
     "data": {
      "text/plain": [
       "<function __main__.selectHouse(way)>"
      ]
     },
     "execution_count": 18,
     "metadata": {},
     "output_type": "execute_result"
    }
   ],
   "source": [
    "import folium \n",
    "import folium.plugins\n",
    "import ipywidgets\n",
    "from IPython.display import display\n",
    "import json\n",
    "import os\n",
    "\n",
    "coords = (30.416540, 77.968474)\n",
    "\n",
    "class navigator:\n",
    "    \n",
    "    def __init__(self):\n",
    "        self.geoResources = {}\n",
    "        self.blockLocation = coords\n",
    "        self.position = 'block1'\n",
    "        self.destination = 'block1'\n",
    "\n",
    "        for root, dirs, files in os.walk('blocks'):  \n",
    "            for file in files:\n",
    "                self.geoResources[file.split('.')[0]] = os.path.join(root, file) \n",
    "\n",
    "    def changeDestination(self, newDestination):\n",
    "        self.destination = newDestination\n",
    "\n",
    "    def changeStartPoint(self, newStartPoint):\n",
    "        self.position = newStartPoint\n",
    "        \n",
    "    def drawPathWay(self, maps):\n",
    "        def switchPosition(coordinate):\n",
    "            coordinate[0], coordinate[1] = coordinate[1], coordinate[0]\n",
    "            return coordinate\n",
    "            \n",
    "        searchString = self.position + self.destination.split('b')[1]\n",
    "\n",
    "\n",
    "        with open(self.geoResources[searchString]) as f:\n",
    "            testWay = json.load(f)\n",
    "\n",
    "        finalPath = []\n",
    "        for feature in testWay['features']:\n",
    "            path = feature['geometry']['coordinates']\n",
    "            finalPath.extend(map(switchPosition, path))\n",
    "\n",
    "        folium.plugins.AntPath(finalPath).add_to(maps)\n",
    "\n",
    "    def drawBuilding(self, maps):\n",
    "        houseOutline = self.geoResources[self.destination]\n",
    "        folium.GeoJson(houseOutline, name=\"geojson\").add_to(maps)\n",
    "\n",
    "    def redrawMap(self):\n",
    "        maps = folium.Map(location=coords, zoom_start=17)\n",
    "        self.drawPathWay(maps)\n",
    "        self.drawBuilding(maps)\n",
    "        display(maps)\n",
    "\n",
    "        \n",
    "myNavigator = navigator()\n",
    "\n",
    "def displayWay(whereTo):\n",
    "    myNavigator.changeDestination(whereTo)\n",
    "\n",
    "def changePosition(whereFrom):\n",
    "    myNavigator.changeStartPoint(whereFrom)\n",
    "\n",
    "selectHouse_widget = ipywidgets.Select(\n",
    "    options=['block1', 'block11', 'block9', 'Library', 'Ground', 'Physics Lab'],\n",
    "    value='block1',\n",
    "    description='Target',\n",
    "    disabled=False)\n",
    "\n",
    "def selectHouse(way):\n",
    "\n",
    "    if way == 'block1':\n",
    "        displayWay('b1')\n",
    "\n",
    "    if way == 'block11':\n",
    "        displayWay('b11')\n",
    "\n",
    "    if way == 'block9':\n",
    "        displayWay('b9')\n",
    "\n",
    "    if way == 'Library':\n",
    "        displayWay('blis')\n",
    "\n",
    "    if way == 'Ground':\n",
    "        displayWay('bgro')\n",
    "\n",
    "    if way == 'Physics Lab':\n",
    "        displayWay('bphy')\n",
    "\n",
    "selectPosition_widget = ipywidgets.Select(\n",
    "    options=['block1', 'block11', 'block9', 'Library', 'Ground', 'Physics Lab'],\n",
    "    value='block1',\n",
    "    description='Start',\n",
    "    disabled=False)\n",
    "\n",
    "def selectPosition(position):\n",
    "\n",
    "    if position == 'block1':\n",
    "        changePosition('b1')\n",
    "\n",
    "    if position == 'block11':\n",
    "        changePosition('b11')\n",
    "\n",
    "    if position == 'block9':\n",
    "        changePosition('b9')\n",
    "\n",
    "    if position == 'Library':\n",
    "        changePosition('blis')\n",
    "\n",
    "    if position == 'Ground':\n",
    "        changePosition('bgro')\n",
    "\n",
    "    if position == 'Physics Lab':\n",
    "        changePosition('bphy')\n",
    "\n",
    "button = ipywidgets.Button(description=\"Redraw Map\")\n",
    "output = ipywidgets.Output()\n",
    "\n",
    "display(button, output)\n",
    "\n",
    "def on_button_clicked(b):\n",
    "  with output:\n",
    "    output.clear_output()\n",
    "    myNavigator.redrawMap()\n",
    "\n",
    "button.on_click(on_button_clicked)\n",
    "\n",
    "ipywidgets.interact(selectPosition, position=selectPosition_widget)\n",
    "ipywidgets.interact(selectHouse, way=selectHouse_widget)\n",
    "\n"
   ]
  },
  {
   "cell_type": "code",
   "execution_count": null,
   "id": "26d6cc42-6e55-4b06-bf09-2222341713e4",
   "metadata": {},
   "outputs": [],
   "source": []
  }
 ],
 "metadata": {
  "kernelspec": {
   "display_name": "myproject",
   "language": "python",
   "name": "myproject"
  },
  "language_info": {
   "codemirror_mode": {
    "name": "ipython",
    "version": 3
   },
   "file_extension": ".py",
   "mimetype": "text/x-python",
   "name": "python",
   "nbconvert_exporter": "python",
   "pygments_lexer": "ipython3",
   "version": "3.10.12"
  }
 },
 "nbformat": 4,
 "nbformat_minor": 5
}
